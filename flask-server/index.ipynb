{
 "cells": [
  {
   "cell_type": "markdown",
   "metadata": {},
   "source": [
    "Sample odoo connect"
   ]
  },
  {
   "cell_type": "code",
   "execution_count": 14,
   "metadata": {},
   "outputs": [
    {
     "name": "stdout",
     "output_type": "stream",
     "text": [
      "16 Joher - Admin\n",
      "15 Abcd\n",
      "14 User Website Developer\n",
      "13 User Warehouse\n",
      "12 User Sales\n",
      "11 User Purchasing\n",
      "10 User Production\n",
      "9 User Accounting\n",
      "8 Deni - Admin\n",
      "7 Administrator\n",
      "3 Yudhi - Admin\n"
     ]
    }
   ],
   "source": [
    "from lib.OdooClient import OdooClient\n",
    "\n",
    "url = 'http://203.194.112.105:80'\n",
    "db = 'demo-01'\n",
    "username = 'admin'  \n",
    "password = 'odooadmin'\n",
    "\n",
    "odoo_client=OdooClient(url,db, username, password)\n",
    "\n",
    "# Contoh penggunaan untuk mencari beberapa catatan dari model tertentu\n",
    "records = odoo_client.search_records('res.partner',domain=[('is_company', '=', False)],limit=100)\n",
    "tabel=[]\n",
    "for record in records:\n",
    "    print(record['id'],record['name'])\n",
    "    tabel.append([record['id'],record['name']])\n",
    "  "
   ]
  },
  {
   "cell_type": "markdown",
   "metadata": {},
   "source": [
    "<h1>Template</H1>"
   ]
  },
  {
   "cell_type": "code",
   "execution_count": null,
   "metadata": {},
   "outputs": [],
   "source": []
  },
  {
   "cell_type": "code",
   "execution_count": 15,
   "metadata": {},
   "outputs": [
    {
     "ename": "RuntimeError",
     "evalue": "Working outside of application context.\n\nThis typically means that you attempted to use functionality that needed\nthe current application. To solve this, set up an application context\nwith app.app_context(). See the documentation for more information.",
     "output_type": "error",
     "traceback": [
      "\u001b[0;31m---------------------------------------------------------------------------\u001b[0m",
      "\u001b[0;31mRuntimeError\u001b[0m                              Traceback (most recent call last)",
      "\u001b[1;32m/home/felino/Documents/docker/flask-server/index.ipynb Cell 5\u001b[0m line \u001b[0;36m1\n\u001b[1;32m      <a href='vscode-notebook-cell:/home/felino/Documents/docker/flask-server/index.ipynb#X13sZmlsZQ%3D%3D?line=3'>4</a>\u001b[0m records \u001b[39m=\u001b[39m odoo_client\u001b[39m.\u001b[39msearch_records(\u001b[39m'\u001b[39m\u001b[39mres.partner\u001b[39m\u001b[39m'\u001b[39m,domain\u001b[39m=\u001b[39m[(\u001b[39m'\u001b[39m\u001b[39mis_company\u001b[39m\u001b[39m'\u001b[39m, \u001b[39m'\u001b[39m\u001b[39m=\u001b[39m\u001b[39m'\u001b[39m, \u001b[39mFalse\u001b[39;00m)],limit\u001b[39m=\u001b[39m\u001b[39m100\u001b[39m)\n\u001b[1;32m      <a href='vscode-notebook-cell:/home/felino/Documents/docker/flask-server/index.ipynb#X13sZmlsZQ%3D%3D?line=4'>5</a>\u001b[0m data \u001b[39m=\u001b[39m {\n\u001b[1;32m      <a href='vscode-notebook-cell:/home/felino/Documents/docker/flask-server/index.ipynb#X13sZmlsZQ%3D%3D?line=5'>6</a>\u001b[0m         \u001b[39m'\u001b[39m\u001b[39mtitle\u001b[39m\u001b[39m'\u001b[39m: \u001b[39m'\u001b[39m\u001b[39mDynamic HTML with Jinja\u001b[39m\u001b[39m'\u001b[39m,\n\u001b[1;32m      <a href='vscode-notebook-cell:/home/felino/Documents/docker/flask-server/index.ipynb#X13sZmlsZQ%3D%3D?line=6'>7</a>\u001b[0m         \u001b[39m'\u001b[39m\u001b[39mcontent\u001b[39m\u001b[39m'\u001b[39m: \u001b[39m'\u001b[39m\u001b[39mThis is a dynamically generated HTML file using Jinja.\u001b[39m\u001b[39m'\u001b[39m,\n\u001b[1;32m      <a href='vscode-notebook-cell:/home/felino/Documents/docker/flask-server/index.ipynb#X13sZmlsZQ%3D%3D?line=7'>8</a>\u001b[0m     }\n\u001b[0;32m---> <a href='vscode-notebook-cell:/home/felino/Documents/docker/flask-server/index.ipynb#X13sZmlsZQ%3D%3D?line=9'>10</a>\u001b[0m html_content \u001b[39m=\u001b[39m render_template(\u001b[39m'\u001b[39;49m\u001b[39mindex.html\u001b[39;49m\u001b[39m'\u001b[39;49m, data\u001b[39m=\u001b[39;49mdata)\n\u001b[1;32m     <a href='vscode-notebook-cell:/home/felino/Documents/docker/flask-server/index.ipynb#X13sZmlsZQ%3D%3D?line=10'>11</a>\u001b[0m \u001b[39m#html_content=render_template(\"tabel.html\")\u001b[39;00m\n\u001b[1;32m     <a href='vscode-notebook-cell:/home/felino/Documents/docker/flask-server/index.ipynb#X13sZmlsZQ%3D%3D?line=12'>13</a>\u001b[0m tabel\u001b[39m=\u001b[39m[]\n",
      "File \u001b[0;32m~/.local/lib/python3.8/site-packages/flask/templating.py:150\u001b[0m, in \u001b[0;36mrender_template\u001b[0;34m(template_name_or_list, **context)\u001b[0m\n\u001b[1;32m    140\u001b[0m \u001b[39mdef\u001b[39;00m \u001b[39mrender_template\u001b[39m(\n\u001b[1;32m    141\u001b[0m     template_name_or_list: \u001b[39mstr\u001b[39m \u001b[39m|\u001b[39m Template \u001b[39m|\u001b[39m \u001b[39mlist\u001b[39m[\u001b[39mstr\u001b[39m \u001b[39m|\u001b[39m Template],\n\u001b[1;32m    142\u001b[0m     \u001b[39m*\u001b[39m\u001b[39m*\u001b[39mcontext: t\u001b[39m.\u001b[39mAny,\n\u001b[1;32m    143\u001b[0m ) \u001b[39m-\u001b[39m\u001b[39m>\u001b[39m \u001b[39mstr\u001b[39m:\n\u001b[1;32m    144\u001b[0m \u001b[39m    \u001b[39m\u001b[39m\"\"\"Render a template by name with the given context.\u001b[39;00m\n\u001b[1;32m    145\u001b[0m \n\u001b[1;32m    146\u001b[0m \u001b[39m    :param template_name_or_list: The name of the template to render. If\u001b[39;00m\n\u001b[1;32m    147\u001b[0m \u001b[39m        a list is given, the first name to exist will be rendered.\u001b[39;00m\n\u001b[1;32m    148\u001b[0m \u001b[39m    :param context: The variables to make available in the template.\u001b[39;00m\n\u001b[1;32m    149\u001b[0m \u001b[39m    \"\"\"\u001b[39;00m\n\u001b[0;32m--> 150\u001b[0m     app \u001b[39m=\u001b[39m current_app\u001b[39m.\u001b[39;49m_get_current_object()  \u001b[39m# type: ignore[attr-defined]\u001b[39;00m\n\u001b[1;32m    151\u001b[0m     template \u001b[39m=\u001b[39m app\u001b[39m.\u001b[39mjinja_env\u001b[39m.\u001b[39mget_or_select_template(template_name_or_list)\n\u001b[1;32m    152\u001b[0m     \u001b[39mreturn\u001b[39;00m _render(app, template, context)\n",
      "File \u001b[0;32m~/.local/lib/python3.8/site-packages/werkzeug/local.py:508\u001b[0m, in \u001b[0;36mLocalProxy.__init__.<locals>._get_current_object\u001b[0;34m()\u001b[0m\n\u001b[1;32m    506\u001b[0m     obj \u001b[39m=\u001b[39m local\u001b[39m.\u001b[39mget()\n\u001b[1;32m    507\u001b[0m \u001b[39mexcept\u001b[39;00m \u001b[39mLookupError\u001b[39;00m:\n\u001b[0;32m--> 508\u001b[0m     \u001b[39mraise\u001b[39;00m \u001b[39mRuntimeError\u001b[39;00m(unbound_message) \u001b[39mfrom\u001b[39;00m \u001b[39mNone\u001b[39;00m\n\u001b[1;32m    510\u001b[0m \u001b[39mreturn\u001b[39;00m get_name(obj)\n",
      "\u001b[0;31mRuntimeError\u001b[0m: Working outside of application context.\n\nThis typically means that you attempted to use functionality that needed\nthe current application. To solve this, set up an application context\nwith app.app_context(). See the documentation for more information."
     ]
    }
   ],
   "source": [
    "from flask import Flask, render_template\n",
    "tabel=\"<table><thead><tr>\"\n",
    "\n",
    "records = odoo_client.search_records('res.partner',domain=[('is_company', '=', False)],limit=100)\n",
    "data = {\n",
    "        'title': 'Dynamic HTML with Jinja',\n",
    "        'content': 'This is a dynamically generated HTML file using Jinja.',\n",
    "    }\n",
    "    \n",
    "html_content = render_template('index.html', data=data)\n",
    "#html_content=render_template(\"tabel.html\")\n",
    "\n",
    "tabel=[]\n",
    "for record in records:\n",
    "    print(record['id'],record['name'])\n",
    "    tabel.append([record['id'],record['name']])"
   ]
  },
  {
   "cell_type": "code",
   "execution_count": null,
   "metadata": {
    "vscode": {
     "languageId": "html"
    }
   },
   "outputs": [],
   "source": []
  },
  {
   "cell_type": "code",
   "execution_count": null,
   "metadata": {},
   "outputs": [],
   "source": []
  }
 ],
 "metadata": {
  "kernelspec": {
   "display_name": "Python 3",
   "language": "python",
   "name": "python3"
  },
  "language_info": {
   "codemirror_mode": {
    "name": "ipython",
    "version": 3
   },
   "file_extension": ".py",
   "mimetype": "text/x-python",
   "name": "python",
   "nbconvert_exporter": "python",
   "pygments_lexer": "ipython3",
   "version": "3.8.10"
  }
 },
 "nbformat": 4,
 "nbformat_minor": 2
}
