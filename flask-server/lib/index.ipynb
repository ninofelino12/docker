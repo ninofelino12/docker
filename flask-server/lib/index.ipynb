{
 "cells": [
  {
   "cell_type": "markdown",
   "metadata": {},
   "source": [
    "Sample odoo connect"
   ]
  },
  {
   "cell_type": "code",
   "execution_count": 5,
   "metadata": {},
   "outputs": [
    {
     "name": "stdout",
     "output_type": "stream",
     "text": [
      "16 Joher - Admin\n",
      "15 Abcd\n",
      "14 User Website Developer\n",
      "13 User Warehouse\n",
      "12 User Sales\n",
      "11 User Purchasing\n",
      "10 User Production\n",
      "9 User Accounting\n",
      "8 Deni - Admin\n",
      "7 Administrator\n",
      "3 Yudhi - Admin\n",
      "[[16, 'Joher - Admin'], [15, 'Abcd'], [14, 'User Website Developer'], [13, 'User Warehouse'], [12, 'User Sales'], [11, 'User Purchasing'], [10, 'User Production'], [9, 'User Accounting'], [8, 'Deni - Admin'], [7, 'Administrator'], [3, 'Yudhi - Admin']]\n"
     ]
    }
   ],
   "source": [
    "from lib.OdooClient import OdooClient\n",
    "\n",
    "url = 'http://203.194.112.105:80'\n",
    "db = 'demo-01'\n",
    "username = 'admin'  \n",
    "password = 'odooadmin'\n",
    "\n",
    "odoo_client=OdooClient(url,db, username, password)\n",
    "\n",
    "# Contoh penggunaan untuk mencari beberapa catatan dari model tertentu\n",
    "records = odoo_client.search_records('res.partner',domain=[('is_company', '=', False)],limit=100)\n",
    "tabel=[]\n",
    "for record in records:\n",
    "    print(record['id'],record['name'])\n",
    "    tabel.append([record['id'],record['name']])\n",
    "print(tabel)  "
   ]
  },
  {
   "cell_type": "markdown",
   "metadata": {},
   "source": []
  },
  {
   "cell_type": "code",
   "execution_count": null,
   "metadata": {},
   "outputs": [],
   "source": []
  }
 ],
 "metadata": {
  "kernelspec": {
   "display_name": "Python 3",
   "language": "python",
   "name": "python3"
  },
  "language_info": {
   "codemirror_mode": {
    "name": "ipython",
    "version": 3
   },
   "file_extension": ".py",
   "mimetype": "text/x-python",
   "name": "python",
   "nbconvert_exporter": "python",
   "pygments_lexer": "ipython3",
   "version": "3.8.10"
  }
 },
 "nbformat": 4,
 "nbformat_minor": 2
}
